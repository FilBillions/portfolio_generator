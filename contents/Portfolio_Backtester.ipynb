{
 "cells": [
  {
   "cell_type": "code",
   "execution_count": 1,
   "id": "e55969b8-7232-4a74-b81d-6a237bd2acc5",
   "metadata": {},
   "outputs": [],
   "source": [
    "from portfolio_generator import Portfolio_Generator\n",
    "from datetime import date, timedelta\n",
    "import yfinance as yf"
   ]
  },
  {
   "cell_type": "code",
   "execution_count": 2,
   "id": "568d2bd3-ba50-4f12-b345-df40900895bc",
   "metadata": {},
   "outputs": [],
   "source": [
    "universe = '2000-01-01'"
   ]
  },
  {
   "cell_type": "code",
   "execution_count": 3,
   "id": "c5000650-b7ea-48c3-85ac-cd936675aadb",
   "metadata": {},
   "outputs": [],
   "source": [
    "tickers = {'NVDA':.20, 'HOOD':.15, 'MSFT':.05, 'NFLX':.20, 'AAPL':.20, 'SPOT':.10, 'SPY ALGO':.05, 'AMC ALGO':.05}"
   ]
  },
  {
   "cell_type": "code",
   "execution_count": 4,
   "id": "ae90f50b-b9c1-497b-aded-b5c4af00399b",
   "metadata": {},
   "outputs": [],
   "source": [
    "ticker_list = ['NVDA','HOOD','MSFT','NFLX','AAPL','SPOT']"
   ]
  },
  {
   "cell_type": "code",
   "execution_count": 5,
   "id": "9177ba46-ef10-4819-aecd-3ea1aa9c457a",
   "metadata": {},
   "outputs": [
    {
     "name": "stdout",
     "output_type": "stream",
     "text": [
      "YF.download() has changed argument auto_adjust default to True\n"
     ]
    },
    {
     "name": "stderr",
     "output_type": "stream",
     "text": [
      "[*********************100%***********************]  6 of 6 completed\n"
     ]
    }
   ],
   "source": [
    "ticker_df = yf.download(ticker_list, start = universe, end=str(date.today() - timedelta(1)), interval='1d', multi_level_index=True)"
   ]
  },
  {
   "cell_type": "code",
   "execution_count": 6,
   "id": "caf3e29e-6190-4609-9de9-580b07755533",
   "metadata": {},
   "outputs": [
    {
     "name": "stderr",
     "output_type": "stream",
     "text": [
      "[*********************100%***********************]  1 of 1 completed\n",
      "[*********************100%***********************]  1 of 1 completed\n"
     ]
    }
   ],
   "source": [
    "algo_dictionary = {'SPY ALGO':yf.download('SPY',start=universe, end = str(date.today() - timedelta(1)), interval = '1d', multi_level_index=False),\n",
    "                'AMC ALGO':yf.download('AMC',start=universe, end = str(date.today() - timedelta(1)), interval = '1d', multi_level_index=False)}"
   ]
  },
  {
   "cell_type": "code",
   "execution_count": 7,
   "id": "3972ca36-378c-4324-b7bd-ce5ac84a2ec6",
   "metadata": {},
   "outputs": [],
   "source": [
    "portfolio = Portfolio_Generator(tickers, start = '2022-12-23', end='2023-12-23', interval = \"1d\", optional_df=ticker_df)"
   ]
  },
  {
   "cell_type": "code",
   "execution_count": 8,
   "id": "87f0a2c3-4fd4-4e51-8a1e-c6341bc989a1",
   "metadata": {},
   "outputs": [
    {
     "name": "stdout",
     "output_type": "stream",
     "text": [
      "Model Portfolio Result: 100.97%\n",
      " from 2022-12-27 00:00:00 to 2023-12-22 00:00:00\n"
     ]
    },
    {
     "data": {
      "text/html": [
       "<div>\n",
       "<style scoped>\n",
       "    .dataframe tbody tr th:only-of-type {\n",
       "        vertical-align: middle;\n",
       "    }\n",
       "\n",
       "    .dataframe tbody tr th {\n",
       "        vertical-align: top;\n",
       "    }\n",
       "\n",
       "    .dataframe thead th {\n",
       "        text-align: right;\n",
       "    }\n",
       "</style>\n",
       "<table border=\"1\" class=\"dataframe\">\n",
       "  <thead>\n",
       "    <tr style=\"text-align: right;\">\n",
       "      <th></th>\n",
       "      <th>Model Value</th>\n",
       "      <th>SPY ALGO Value</th>\n",
       "      <th>AMC ALGO Value</th>\n",
       "      <th>NVDA Value</th>\n",
       "      <th>HOOD Value</th>\n",
       "      <th>MSFT Value</th>\n",
       "      <th>NFLX Value</th>\n",
       "      <th>AAPL Value</th>\n",
       "      <th>SPOT Value</th>\n",
       "    </tr>\n",
       "    <tr>\n",
       "      <th>Date</th>\n",
       "      <th></th>\n",
       "      <th></th>\n",
       "      <th></th>\n",
       "      <th></th>\n",
       "      <th></th>\n",
       "      <th></th>\n",
       "      <th></th>\n",
       "      <th></th>\n",
       "      <th></th>\n",
       "    </tr>\n",
       "  </thead>\n",
       "  <tbody>\n",
       "    <tr>\n",
       "      <th>2022-12-27</th>\n",
       "      <td>9690.311228</td>\n",
       "      <td>500.000000</td>\n",
       "      <td>500.000000</td>\n",
       "      <td>1857.293234</td>\n",
       "      <td>1452.830188</td>\n",
       "      <td>496.292938</td>\n",
       "      <td>1926.837684</td>\n",
       "      <td>1972.243803</td>\n",
       "      <td>984.813380</td>\n",
       "    </tr>\n",
       "    <tr>\n",
       "      <th>2022-12-28</th>\n",
       "      <td>9565.251046</td>\n",
       "      <td>500.000000</td>\n",
       "      <td>500.000000</td>\n",
       "      <td>1846.113536</td>\n",
       "      <td>1452.830188</td>\n",
       "      <td>491.203510</td>\n",
       "      <td>1877.407194</td>\n",
       "      <td>1911.724886</td>\n",
       "      <td>985.971733</td>\n",
       "    </tr>\n",
       "    <tr>\n",
       "      <th>2022-12-29</th>\n",
       "      <td>9924.601062</td>\n",
       "      <td>500.000000</td>\n",
       "      <td>523.573173</td>\n",
       "      <td>1920.689169</td>\n",
       "      <td>1518.867997</td>\n",
       "      <td>504.775254</td>\n",
       "      <td>1973.962595</td>\n",
       "      <td>1965.873089</td>\n",
       "      <td>1016.859784</td>\n",
       "    </tr>\n",
       "    <tr>\n",
       "      <th>2022-12-30</th>\n",
       "      <td>9941.892783</td>\n",
       "      <td>509.000228</td>\n",
       "      <td>486.352329</td>\n",
       "      <td>1922.135955</td>\n",
       "      <td>1535.849158</td>\n",
       "      <td>502.282957</td>\n",
       "      <td>1999.457645</td>\n",
       "      <td>1970.726995</td>\n",
       "      <td>1016.087517</td>\n",
       "    </tr>\n",
       "    <tr>\n",
       "      <th>2023-01-03</th>\n",
       "      <td>9862.813502</td>\n",
       "      <td>507.659463</td>\n",
       "      <td>495.037202</td>\n",
       "      <td>1882.809594</td>\n",
       "      <td>1524.528324</td>\n",
       "      <td>501.780278</td>\n",
       "      <td>1999.932335</td>\n",
       "      <td>1897.012191</td>\n",
       "      <td>1054.054115</td>\n",
       "    </tr>\n",
       "    <tr>\n",
       "      <th>...</th>\n",
       "      <td>...</td>\n",
       "      <td>...</td>\n",
       "      <td>...</td>\n",
       "      <td>...</td>\n",
       "      <td>...</td>\n",
       "      <td>...</td>\n",
       "      <td>...</td>\n",
       "      <td>...</td>\n",
       "      <td>...</td>\n",
       "    </tr>\n",
       "    <tr>\n",
       "      <th>2023-12-18</th>\n",
       "      <td>19513.856353</td>\n",
       "      <td>555.024286</td>\n",
       "      <td>562.689857</td>\n",
       "      <td>6589.401390</td>\n",
       "      <td>2250.943508</td>\n",
       "      <td>787.404632</td>\n",
       "      <td>3296.175815</td>\n",
       "      <td>2987.789571</td>\n",
       "      <td>2484.427296</td>\n",
       "    </tr>\n",
       "    <tr>\n",
       "      <th>2023-12-19</th>\n",
       "      <td>19734.787094</td>\n",
       "      <td>555.024286</td>\n",
       "      <td>562.689857</td>\n",
       "      <td>6527.161477</td>\n",
       "      <td>2484.905734</td>\n",
       "      <td>788.693676</td>\n",
       "      <td>3356.522941</td>\n",
       "      <td>3003.804447</td>\n",
       "      <td>2455.984676</td>\n",
       "    </tr>\n",
       "    <tr>\n",
       "      <th>2023-12-20</th>\n",
       "      <td>19333.897745</td>\n",
       "      <td>558.399229</td>\n",
       "      <td>562.689857</td>\n",
       "      <td>6330.704432</td>\n",
       "      <td>2381.132111</td>\n",
       "      <td>783.115361</td>\n",
       "      <td>3317.534603</td>\n",
       "      <td>2971.621841</td>\n",
       "      <td>2428.700310</td>\n",
       "    </tr>\n",
       "    <tr>\n",
       "      <th>2023-12-21</th>\n",
       "      <td>19573.536145</td>\n",
       "      <td>558.399229</td>\n",
       "      <td>562.689857</td>\n",
       "      <td>6446.368959</td>\n",
       "      <td>2432.075595</td>\n",
       "      <td>789.285243</td>\n",
       "      <td>3333.401136</td>\n",
       "      <td>2969.333969</td>\n",
       "      <td>2481.982158</td>\n",
       "    </tr>\n",
       "    <tr>\n",
       "      <th>2023-12-22</th>\n",
       "      <td>19474.685801</td>\n",
       "      <td>558.399229</td>\n",
       "      <td>562.689857</td>\n",
       "      <td>6425.314986</td>\n",
       "      <td>2443.396249</td>\n",
       "      <td>791.482735</td>\n",
       "      <td>3300.515486</td>\n",
       "      <td>2952.861471</td>\n",
       "      <td>2440.025789</td>\n",
       "    </tr>\n",
       "  </tbody>\n",
       "</table>\n",
       "<p>250 rows × 9 columns</p>\n",
       "</div>"
      ],
      "text/plain": [
       "             Model Value  SPY ALGO Value  AMC ALGO Value   NVDA Value  \\\n",
       "Date                                                                    \n",
       "2022-12-27   9690.311228      500.000000      500.000000  1857.293234   \n",
       "2022-12-28   9565.251046      500.000000      500.000000  1846.113536   \n",
       "2022-12-29   9924.601062      500.000000      523.573173  1920.689169   \n",
       "2022-12-30   9941.892783      509.000228      486.352329  1922.135955   \n",
       "2023-01-03   9862.813502      507.659463      495.037202  1882.809594   \n",
       "...                  ...             ...             ...          ...   \n",
       "2023-12-18  19513.856353      555.024286      562.689857  6589.401390   \n",
       "2023-12-19  19734.787094      555.024286      562.689857  6527.161477   \n",
       "2023-12-20  19333.897745      558.399229      562.689857  6330.704432   \n",
       "2023-12-21  19573.536145      558.399229      562.689857  6446.368959   \n",
       "2023-12-22  19474.685801      558.399229      562.689857  6425.314986   \n",
       "\n",
       "             HOOD Value  MSFT Value   NFLX Value   AAPL Value   SPOT Value  \n",
       "Date                                                                        \n",
       "2022-12-27  1452.830188  496.292938  1926.837684  1972.243803   984.813380  \n",
       "2022-12-28  1452.830188  491.203510  1877.407194  1911.724886   985.971733  \n",
       "2022-12-29  1518.867997  504.775254  1973.962595  1965.873089  1016.859784  \n",
       "2022-12-30  1535.849158  502.282957  1999.457645  1970.726995  1016.087517  \n",
       "2023-01-03  1524.528324  501.780278  1999.932335  1897.012191  1054.054115  \n",
       "...                 ...         ...          ...          ...          ...  \n",
       "2023-12-18  2250.943508  787.404632  3296.175815  2987.789571  2484.427296  \n",
       "2023-12-19  2484.905734  788.693676  3356.522941  3003.804447  2455.984676  \n",
       "2023-12-20  2381.132111  783.115361  3317.534603  2971.621841  2428.700310  \n",
       "2023-12-21  2432.075595  789.285243  3333.401136  2969.333969  2481.982158  \n",
       "2023-12-22  2443.396249  791.482735  3300.515486  2952.861471  2440.025789  \n",
       "\n",
       "[250 rows x 9 columns]"
      ]
     },
     "execution_count": 8,
     "metadata": {},
     "output_type": "execute_result"
    }
   ],
   "source": [
    "portfolio.backtest(return_table=True, algo_dictionary=algo_dictionary)"
   ]
  }
 ],
 "metadata": {
  "kernelspec": {
   "display_name": "Python 3 (ipykernel)",
   "language": "python",
   "name": "python3"
  },
  "language_info": {
   "codemirror_mode": {
    "name": "ipython",
    "version": 3
   },
   "file_extension": ".py",
   "mimetype": "text/x-python",
   "name": "python",
   "nbconvert_exporter": "python",
   "pygments_lexer": "ipython3",
   "version": "3.11.11"
  }
 },
 "nbformat": 4,
 "nbformat_minor": 5
}
