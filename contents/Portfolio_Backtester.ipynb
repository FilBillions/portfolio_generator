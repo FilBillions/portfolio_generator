{
 "cells": [
  {
   "cell_type": "code",
   "execution_count": 1,
   "id": "e55969b8-7232-4a74-b81d-6a237bd2acc5",
   "metadata": {},
   "outputs": [],
   "source": [
    "from portfolio_generator import Portfolio_Generator\n",
    "from datetime import date, timedelta\n",
    "import yfinance as yf"
   ]
  },
  {
   "cell_type": "code",
   "execution_count": 2,
   "id": "568d2bd3-ba50-4f12-b345-df40900895bc",
   "metadata": {},
   "outputs": [],
   "source": [
    "universe = '2000-01-01'"
   ]
  },
  {
   "cell_type": "code",
   "execution_count": 3,
   "id": "c5000650-b7ea-48c3-85ac-cd936675aadb",
   "metadata": {},
   "outputs": [],
   "source": [
    "tickers = {'NVDA':.20, 'HOOD':.2, 'NFLX':.20, 'AAPL':.20, '^vix ALGO':.2}"
   ]
  },
  {
   "cell_type": "code",
   "execution_count": 4,
   "id": "ae90f50b-b9c1-497b-aded-b5c4af00399b",
   "metadata": {},
   "outputs": [],
   "source": [
    "ticker_list = ['NVDA','HOOD','NFLX','AAPL']"
   ]
  },
  {
   "cell_type": "code",
   "execution_count": 5,
   "id": "9177ba46-ef10-4819-aecd-3ea1aa9c457a",
   "metadata": {},
   "outputs": [
    {
     "name": "stdout",
     "output_type": "stream",
     "text": [
      "YF.download() has changed argument auto_adjust default to True\n"
     ]
    },
    {
     "name": "stderr",
     "output_type": "stream",
     "text": [
      "[*********************100%***********************]  4 of 4 completed\n"
     ]
    }
   ],
   "source": [
    "ticker_df = yf.download(ticker_list, start = universe, end=str(date.today() - timedelta(1)), interval='1d', multi_level_index=True)"
   ]
  },
  {
   "cell_type": "code",
   "execution_count": 6,
   "id": "caf3e29e-6190-4609-9de9-580b07755533",
   "metadata": {},
   "outputs": [
    {
     "name": "stderr",
     "output_type": "stream",
     "text": [
      "[*********************100%***********************]  1 of 1 completed\n"
     ]
    }
   ],
   "source": [
    "algo_dictionary = {'^vix ALGO':yf.download('^vix',start=universe, end = str(date.today() - timedelta(1)), interval = '1d', multi_level_index=False)}"
   ]
  },
  {
   "cell_type": "code",
   "execution_count": 7,
   "id": "3972ca36-378c-4324-b7bd-ce5ac84a2ec6",
   "metadata": {},
   "outputs": [],
   "source": [
    "portfolio = Portfolio_Generator(tickers, start = '2023-10-05', end='2024-10-04', interval = \"1d\", optional_df=ticker_df)"
   ]
  },
  {
   "cell_type": "code",
   "execution_count": 8,
   "id": "87f0a2c3-4fd4-4e51-8a1e-c6341bc989a1",
   "metadata": {},
   "outputs": [
    {
     "name": "stdout",
     "output_type": "stream",
     "text": [
      "Model Portfolio Result: 81.07%\n",
      " from 2023-10-06 00:00:00 to 2024-10-03 00:00:00\n",
      "^vix ALGO Value return: -4.47%\n",
      "NVDA Value return: 168.54%\n",
      "HOOD Value return: 125.88%\n",
      "NFLX Value return: 85.26%\n",
      "AAPL Value return: 27.8%\n"
     ]
    },
    {
     "data": {
      "text/html": [
       "<div>\n",
       "<style scoped>\n",
       "    .dataframe tbody tr th:only-of-type {\n",
       "        vertical-align: middle;\n",
       "    }\n",
       "\n",
       "    .dataframe tbody tr th {\n",
       "        vertical-align: top;\n",
       "    }\n",
       "\n",
       "    .dataframe thead th {\n",
       "        text-align: right;\n",
       "    }\n",
       "</style>\n",
       "<table border=\"1\" class=\"dataframe\">\n",
       "  <thead>\n",
       "    <tr style=\"text-align: right;\">\n",
       "      <th></th>\n",
       "      <th>Model Value</th>\n",
       "      <th>^vix ALGO Value</th>\n",
       "      <th>NVDA Value</th>\n",
       "      <th>HOOD Value</th>\n",
       "      <th>NFLX Value</th>\n",
       "      <th>AAPL Value</th>\n",
       "    </tr>\n",
       "    <tr>\n",
       "      <th>Date</th>\n",
       "      <th></th>\n",
       "      <th></th>\n",
       "      <th></th>\n",
       "      <th></th>\n",
       "      <th></th>\n",
       "      <th></th>\n",
       "    </tr>\n",
       "  </thead>\n",
       "  <tbody>\n",
       "    <tr>\n",
       "      <th>2023-10-06</th>\n",
       "      <td>10166.558646</td>\n",
       "      <td>2000.000000</td>\n",
       "      <td>2048.066478</td>\n",
       "      <td>2041.110128</td>\n",
       "      <td>2047.881121</td>\n",
       "      <td>2029.500919</td>\n",
       "    </tr>\n",
       "    <tr>\n",
       "      <th>2023-10-09</th>\n",
       "      <td>10173.325739</td>\n",
       "      <td>2000.000000</td>\n",
       "      <td>2026.181602</td>\n",
       "      <td>2028.777050</td>\n",
       "      <td>2071.714303</td>\n",
       "      <td>2046.652784</td>\n",
       "    </tr>\n",
       "    <tr>\n",
       "      <th>2023-10-10</th>\n",
       "      <td>10157.108737</td>\n",
       "      <td>2000.000000</td>\n",
       "      <td>2049.677793</td>\n",
       "      <td>2063.720541</td>\n",
       "      <td>2003.918575</td>\n",
       "      <td>2039.791827</td>\n",
       "    </tr>\n",
       "    <tr>\n",
       "      <th>2023-10-11</th>\n",
       "      <td>10112.900263</td>\n",
       "      <td>2000.000000</td>\n",
       "      <td>2094.790677</td>\n",
       "      <td>1997.944650</td>\n",
       "      <td>1964.250228</td>\n",
       "      <td>2055.914707</td>\n",
       "    </tr>\n",
       "    <tr>\n",
       "      <th>2023-10-12</th>\n",
       "      <td>10015.749785</td>\n",
       "      <td>2000.000000</td>\n",
       "      <td>2101.011312</td>\n",
       "      <td>1909.558150</td>\n",
       "      <td>1938.860494</td>\n",
       "      <td>2066.319829</td>\n",
       "    </tr>\n",
       "    <tr>\n",
       "      <th>...</th>\n",
       "      <td>...</td>\n",
       "      <td>...</td>\n",
       "      <td>...</td>\n",
       "      <td>...</td>\n",
       "      <td>...</td>\n",
       "      <td>...</td>\n",
       "    </tr>\n",
       "    <tr>\n",
       "      <th>2024-09-27</th>\n",
       "      <td>18656.156604</td>\n",
       "      <td>1895.783824</td>\n",
       "      <td>5434.869907</td>\n",
       "      <td>4910.585923</td>\n",
       "      <td>3796.934875</td>\n",
       "      <td>2617.982075</td>\n",
       "    </tr>\n",
       "    <tr>\n",
       "      <th>2024-09-30</th>\n",
       "      <td>18649.857718</td>\n",
       "      <td>1914.117836</td>\n",
       "      <td>5436.660409</td>\n",
       "      <td>4813.977632</td>\n",
       "      <td>3807.241346</td>\n",
       "      <td>2677.860496</td>\n",
       "    </tr>\n",
       "    <tr>\n",
       "      <th>2024-10-01</th>\n",
       "      <td>18132.144883</td>\n",
       "      <td>1914.117836</td>\n",
       "      <td>5237.889111</td>\n",
       "      <td>4589.928258</td>\n",
       "      <td>3790.386279</td>\n",
       "      <td>2599.823399</td>\n",
       "    </tr>\n",
       "    <tr>\n",
       "      <th>2024-10-02</th>\n",
       "      <td>18309.806315</td>\n",
       "      <td>1914.117836</td>\n",
       "      <td>5320.710314</td>\n",
       "      <td>4651.593058</td>\n",
       "      <td>3817.010837</td>\n",
       "      <td>2606.374270</td>\n",
       "    </tr>\n",
       "    <tr>\n",
       "      <th>2024-10-03</th>\n",
       "      <td>18408.406805</td>\n",
       "      <td>1910.540040</td>\n",
       "      <td>5499.783703</td>\n",
       "      <td>4610.483322</td>\n",
       "      <td>3793.982634</td>\n",
       "      <td>2593.617106</td>\n",
       "    </tr>\n",
       "  </tbody>\n",
       "</table>\n",
       "<p>250 rows × 6 columns</p>\n",
       "</div>"
      ],
      "text/plain": [
       "             Model Value  ^vix ALGO Value   NVDA Value   HOOD Value  \\\n",
       "Date                                                                  \n",
       "2023-10-06  10166.558646      2000.000000  2048.066478  2041.110128   \n",
       "2023-10-09  10173.325739      2000.000000  2026.181602  2028.777050   \n",
       "2023-10-10  10157.108737      2000.000000  2049.677793  2063.720541   \n",
       "2023-10-11  10112.900263      2000.000000  2094.790677  1997.944650   \n",
       "2023-10-12  10015.749785      2000.000000  2101.011312  1909.558150   \n",
       "...                  ...              ...          ...          ...   \n",
       "2024-09-27  18656.156604      1895.783824  5434.869907  4910.585923   \n",
       "2024-09-30  18649.857718      1914.117836  5436.660409  4813.977632   \n",
       "2024-10-01  18132.144883      1914.117836  5237.889111  4589.928258   \n",
       "2024-10-02  18309.806315      1914.117836  5320.710314  4651.593058   \n",
       "2024-10-03  18408.406805      1910.540040  5499.783703  4610.483322   \n",
       "\n",
       "             NFLX Value   AAPL Value  \n",
       "Date                                  \n",
       "2023-10-06  2047.881121  2029.500919  \n",
       "2023-10-09  2071.714303  2046.652784  \n",
       "2023-10-10  2003.918575  2039.791827  \n",
       "2023-10-11  1964.250228  2055.914707  \n",
       "2023-10-12  1938.860494  2066.319829  \n",
       "...                 ...          ...  \n",
       "2024-09-27  3796.934875  2617.982075  \n",
       "2024-09-30  3807.241346  2677.860496  \n",
       "2024-10-01  3790.386279  2599.823399  \n",
       "2024-10-02  3817.010837  2606.374270  \n",
       "2024-10-03  3793.982634  2593.617106  \n",
       "\n",
       "[250 rows x 6 columns]"
      ]
     },
     "execution_count": 8,
     "metadata": {},
     "output_type": "execute_result"
    }
   ],
   "source": [
    "portfolio.backtest(return_table=True, algo_dictionary=algo_dictionary)"
   ]
  }
 ],
 "metadata": {
  "kernelspec": {
   "display_name": "Python 3 (ipykernel)",
   "language": "python",
   "name": "python3"
  },
  "language_info": {
   "codemirror_mode": {
    "name": "ipython",
    "version": 3
   },
   "file_extension": ".py",
   "mimetype": "text/x-python",
   "name": "python",
   "nbconvert_exporter": "python",
   "pygments_lexer": "ipython3",
   "version": "3.11.11"
  }
 },
 "nbformat": 4,
 "nbformat_minor": 5
}
